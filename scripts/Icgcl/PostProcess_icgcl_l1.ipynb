{
 "cells": [
  {
   "cell_type": "markdown",
   "metadata": {},
   "source": [
    "### Imports and loading config data"
   ]
  },
  {
   "cell_type": "code",
   "metadata": {
    "collapsed": true,
    "jupyter": {
     "outputs_hidden": true
    }
   },
   "source": [
    "from collections import defaultdict\n",
    "import pandas as pd\n",
    "import numpy as np\n",
    "import yaml\n",
    "import os\n",
    "from sklearn import mixture\n",
    "from collections import defaultdict\n",
    "from scipy.spatial import distance\n",
    "from scipy.cluster.hierarchy import dendrogram\n",
    "from scipy.stats import mannwhitneyu\n",
    "import scipy.cluster.hierarchy as hc\n",
    "import scipy.spatial as sp\n",
    "import itertools\n",
    "from pydeseq2.dds import DeseqDataSet\n",
    "from pydeseq2.ds import DeseqStats\n",
    "import seaborn as sns\n",
    "import matplotlib.pyplot as plt\n",
    "from matplotlib.collections import PolyCollection\n",
    "\n",
    "import warnings\n",
    "warnings.filterwarnings('ignore')"
   ],
   "outputs": [],
   "execution_count": null
  },
  {
   "cell_type": "code",
   "metadata": {},
   "source": [
    "## Load configuration file\n",
    "with open('params_icgcl.yaml', 'rb') as f:\n",
    "    conf = yaml.safe_load(f.read())   \n",
    "\n",
    "## Plot settings\n",
    "sns.set_style(style='white')\n",
    "\n",
    "plt.rc('text', usetex = True)\n",
    "plt.rc('font', **{'family' : \"sans-serif\"})\n",
    "plt.rc('text.latex', preamble=r\"\\usepackage{amsmath}\"\n",
    "           r\"\\usepackage{amstext}\")\n",
    "plt.rcParams[\"axes.linewidth\"] = 2.50\n",
    "plt.rcParams['xtick.major.size'] = 20\n",
    "plt.rcParams['ytick.major.size'] = 20\n",
    "fsz = 28"
   ],
   "outputs": [],
   "execution_count": null
  },
  {
   "cell_type": "code",
   "metadata": {
    "collapsed": false
   },
   "source": [
    "# Load general settings from the config file\n",
    "save_img = conf['settings']['save_img']\n",
    "dataset_config = conf[\"datasets\"][\"LINE-1\"]\n",
    "\n",
    "# Load dataset-specific parameters\n",
    "input_file = dataset_config[\"input_file\"]\n",
    "input_folder = dataset_config[\"input_folder\"]\n",
    "output_folder = dataset_config[\"output_folder\"]\n",
    "ec_hc_mask_folder = dataset_config[\"ec_hc_mask_folder\"]\n",
    "rep_list = dataset_config[\"rep_list\"]\n",
    "expt_list = [item for sublist in rep_list for item in sublist]"
   ],
   "outputs": [],
   "execution_count": null
  },
  {
   "cell_type": "code",
   "metadata": {},
   "source": [
    "df_list_treat = {'WRN ASO': 'c','HGPS ASO': '#66CDAA', 'WT': 'g', 'WRN SCR': 'r', 'WRN NT':'#D70040', 'HGPS SCR': 'm','HGPS NT':'#8B008B'}"
   ],
   "outputs": [],
   "execution_count": null
  },
  {
   "cell_type": "markdown",
   "metadata": {},
   "source": [
    "### Data preprocessing"
   ]
  },
  {
   "cell_type": "code",
   "metadata": {},
   "source": [
    "def data_preprocessing(df,expt_list):\n",
    "    normalized_df = df[['Gene_ID','StartPos','EndPos']]\n",
    "    for expt in expt_list:\n",
    "        normalized_df[expt] = (df[expt])/  df[expt].sum()\n",
    "    normalized_df = normalized_df.reset_index()\n",
    "    return  normalized_df"
   ],
   "outputs": [],
   "execution_count": null
  },
  {
   "cell_type": "markdown",
   "metadata": {},
   "source": [
    "### Visualization Functions"
   ]
  },
  {
   "cell_type": "code",
   "metadata": {
    "collapsed": false
   },
   "source": [
    "def setAlpha(ax,a):\n",
    "    for art in ax.get_children():\n",
    "        if isinstance(art, PolyCollection):\n",
    "            art.set_alpha(a)"
   ],
   "outputs": [],
   "execution_count": null
  },
  {
   "cell_type": "code",
   "metadata": {},
   "source": [
    "def fancy_dendrogram(*args, **kwargs):\n",
    "    max_d = kwargs.pop('max_d', None)\n",
    "    fig, ax = plt.subplots()\n",
    "    fig.set_size_inches(9,6)\n",
    "    fig.set_dpi(300)\n",
    "    df_list_treat = {'WRN ASO': 'c','HGPS ASO': '#66CDAA', 'WT': 'g', 'WRN SCR': 'r', 'WRN NT':'#D70040', 'HGPS SCR': 'm','HGPS NT':'#8B008B'}\n",
    "    if max_d and 'color_threshold' not in kwargs:\n",
    "        kwargs['color_threshold'] = max_d\n",
    "    ddata = dendrogram(*args, **kwargs, color_threshold=0, above_threshold_color='k') # Remove the color_threshold and above_threshold_color to get colors for the dendrogram lines\n",
    "    if not kwargs.get('no_plot', False):\n",
    "        plt.xlabel(\"Experiment\",fontsize = fsz, color='k')\n",
    "        plt.ylabel(\"Distance\",fontsize = fsz, color='k')\n",
    "        plt.tick_params(labelsize=fsz-6)\n",
    "        plt.tick_params(labelsize=fsz-6)\n",
    "        plt.tick_params(axis=u'both', which=u'both',length=0)\n",
    "        if max_d:\n",
    "            plt.axhline(y=max_d, c='k')\n",
    "    # Add colors to the dendrogram\n",
    "    ax = plt.gca()\n",
    "    xlbls = ax.get_xmajorticklabels()\n",
    "    for lbl in xlbls:\n",
    "        old_txt = lbl.get_text() # Way to text color of axis of cluster map\n",
    "        temp = [i for i, s in enumerate(df_list_treat) if all([x in old_txt for x in s.split(' ')])]\n",
    "        lbl.set_color(list(df_list_treat.items())[int(temp[0])][1])\n",
    "    ax.grid(False)\n",
    "    ax.yaxis.tick_right()\n",
    "    ax.yaxis.set_label_position(\"right\")\n",
    "    plt.savefig(os.path.join(output_folder,'dendrogram_SVD20.pdf'), format='pdf', bbox_inches='tight')\n",
    "    return ddata"
   ],
   "outputs": [],
   "execution_count": null
  },
  {
   "cell_type": "code",
   "metadata": {},
   "source": [
    "# Clustering plot using seaborn based on the disease\n",
    "def plot_save_dendrogram_PCA_SVD(output_folder):\n",
    "    input_file = os.path.join(output_folder,'fpkm_data_SVD20.csv') # Use fpkm_data_SVD.csv or fpkm_data_PCA.csv\n",
    "    df_sort = pd.read_csv(input_file)\n",
    "    df = df_sort.sort_values('chromosome_id')\n",
    "    row_labels = list(df.columns[df.columns != 'chromosome_id'])\n",
    "    converter = lambda x: x.replace('_', '-')\n",
    "    row_labels = list(map(converter, row_labels))\n",
    "    row_labels = ['-'.join(x.split('-')[:-1]) for x in row_labels]\n",
    "\n",
    "    df_list = df.loc[:, df.columns != 'chromosome_id'].to_numpy()\n",
    "    Z = hc.linkage(sp.distance.squareform(df_list), method='average', metric='cityblock', optimal_ordering=True)\n",
    "    fancy_dendrogram(\n",
    "    Z,\n",
    "    labels=row_labels,\n",
    "    p=20,\n",
    "    leaf_rotation=90.,\n",
    "    leaf_font_size=12.,\n",
    "    show_contracted=True\n",
    "    )"
   ],
   "outputs": [],
   "execution_count": null
  },
  {
   "cell_type": "code",
   "metadata": {
    "collapsed": false
   },
   "source": [
    "# Setting grid labels colors based on the treatment (or disease)\n",
    "def set_cluster_grid_labels_color(df_list_treat,cluster_grid, col_labels, row_labels):\n",
    "    old_lbls_txt_obj = cluster_grid.ax_heatmap.xaxis.get_majorticklabels()\n",
    "    new_col_lbls = []\n",
    "    new_col_clr = []\n",
    "    for obj in old_lbls_txt_obj:\n",
    "        old_txt = obj.get_text() # Way to text color of axis of cluster map (\n",
    "        idx = int(old_txt)\n",
    "        obj.set_text(col_labels[idx])\n",
    "        new_col_lbls.append(obj)\n",
    "        temp = [i for i, s in enumerate(df_list_treat) if all([x in col_labels[idx] for x in s.split(' ')])]\n",
    "        obj.set_color(list(df_list_treat.items())[int(temp[0])][1])\n",
    "\n",
    "    old_lbls_txt_obj = cluster_grid.ax_heatmap.yaxis.get_majorticklabels()\n",
    "    new_row_lbls = []\n",
    "    for obj in old_lbls_txt_obj:\n",
    "        old_txt = obj.get_text()\n",
    "        idx = int(old_txt)\n",
    "        obj.set_text(row_labels[idx])\n",
    "        new_row_lbls.append(obj)\n",
    "    cluster_grid.ax_heatmap.set_xticklabels(new_col_lbls, rotation=90, fontsize=fsz-6)\n",
    "    cluster_grid.ax_heatmap.set_yticklabels(new_row_lbls, rotation=0, fontsize=fsz-6)"
   ],
   "outputs": [],
   "execution_count": null
  },
  {
   "cell_type": "code",
   "metadata": {
    "collapsed": false
   },
   "source": [
    "# Clustering plot using seaborn based on the phenotype\n",
    "def plot_save_dendrogram_ellstar(output_folder):\n",
    "    input_file = os.path.join(output_folder,'auto_cor_ratio.csv')\n",
    "    df_sort = pd.read_csv(input_file)\n",
    "    df = df_sort.sort_values('chromosome_id')\n",
    "    col_labels = list(df.columns[df.columns != 'chromosome_id'])\n",
    "    converter = lambda x: x.replace('_', '-')\n",
    "    col_labels = list(map(converter, col_labels))\n",
    "    col_labels = ['-'.join(x.split('-')[:-1]) for x in col_labels]\n",
    "    row_labels = df['chromosome_id'].tolist()\n",
    "    df_list = df.loc[:, df.columns != 'chromosome_id'].to_numpy()\n",
    "    kws = dict(figsize=(8, 7))\n",
    "    cluster_grid = sns.clustermap(df_list, cmap='mako',method='average',metric='cityblock',  **kws)\n",
    "    cluster_grid.ax_cbar.tick_params(axis='y', length=2)\n",
    "    for spine in cluster_grid.ax_cbar.spines:\n",
    "        cluster_grid.ax_cbar.spines[spine].set_color('black')\n",
    "        cluster_grid.ax_cbar.spines[spine].set_linewidth(2)\n",
    "\n",
    "    ax = cluster_grid.ax_heatmap\n",
    "    ax.figure.axes[-1].set_ylabel(r'$\\ell^{*}$', size=fsz)\n",
    "    ax.figure.axes[-1].tick_params(labelsize=fsz-12)\n",
    "    ax.set_xlabel(\"Experiment\",fontsize = fsz, color='k')\n",
    "    ax.set_ylabel(\"Chromosome\",fontsize = fsz, color='k')\n",
    "    ax.tick_params(axis='y', length=1)\n",
    "    ax.tick_params(axis='x', length=1)\n",
    "    set_cluster_grid_labels_color(df_list_treat,cluster_grid, col_labels, row_labels)\n",
    "    # Drawing the frame\n",
    "    for a in cluster_grid.ax_row_dendrogram.collections:\n",
    "        a.set_linewidth(1.2)\n",
    "\n",
    "    for a in cluster_grid.ax_col_dendrogram.collections:\n",
    "        a.set_linewidth(1.2)\n",
    "    for _, spine in ax.spines.items():\n",
    "        spine.set_visible(True)\n",
    "        spine.set_linewidth(3)\n",
    "        spine.set_color(\"black\")\n",
    "    plt.savefig(os.path.join(output_folder,'dendrogram_ellstar.pdf'), format='pdf', bbox_inches='tight')"
   ],
   "outputs": [],
   "execution_count": null
  },
  {
   "cell_type": "markdown",
   "metadata": {},
   "source": [
    "### Post Processing data analysis"
   ]
  },
  {
   "cell_type": "code",
   "metadata": {},
   "source": [
    "# Post processing data analysis beyond this point. Importing the output l* file saved in output_folder directory\n",
    "df = pd.read_csv(os.path.join(output_folder,\"auto_cor_ratio.csv\"))"
   ],
   "outputs": [],
   "execution_count": null
  },
  {
   "cell_type": "code",
   "metadata": {},
   "source": [
    "plot_save_dendrogram_ellstar(output_folder)"
   ],
   "outputs": [],
   "execution_count": null
  },
  {
   "cell_type": "code",
   "metadata": {},
   "source": [
    "plot_save_dendrogram_PCA_SVD(ec_hc_mask_folder)"
   ],
   "outputs": [],
   "execution_count": null
  },
  {
   "cell_type": "code",
   "metadata": {},
   "source": [
    "## Fig 5 (main text)\n",
    "labels = []\n",
    "for rep in rep_list:\n",
    "    x = rep[0].split('_')\n",
    "    if len(x) == 3:\n",
    "        labels.append(x[0])\n",
    "    elif len(x) == 5:\n",
    "        labels.append(x[0]+\"_\"+x[2]+\"_\"+x[3])\n",
    "    else:\n",
    "        labels.append(x[0]+\"_\"+x[2])\n",
    "Chr = ['6','1','4'] #\n",
    "df_to_plot = pd.DataFrame(columns= ['chromosome_id'] + labels)\n",
    "for chromosome,data in df.groupby('chromosome_id'):\n",
    "    if chromosome == Chr[0] or chromosome == Chr[1] or chromosome == Chr[2]:\n",
    "        df_1 = data\n",
    "        rep_mean = [chromosome]\n",
    "        rep_std = [chromosome]\n",
    "        for rep in rep_list:\n",
    "            rep_mean.append(df_1[rep].to_numpy().mean())\n",
    "            rep_std.append(df_1[rep].to_numpy().std())\n",
    "        df_to_plot = df_to_plot.append(pd.DataFrame([rep_mean], columns=['chromosome_id'] + labels), ignore_index=True)\n",
    "        df_to_plot = df_to_plot.append(pd.DataFrame([rep_std], columns=['chromosome_id'] + labels), ignore_index=True)\n",
    "ind = np.arange(len(rep_list))\n",
    "# Prepare for plotting\n",
    "x_col = ['WT', 'HGPS_L1_ASO', 'HGPS_SCR','HGPS_NT', 'WRN_L1_ASO', 'WRN_SCR', 'WRN_NT']\n",
    "labels = x_col\n",
    "df_to_plot = df_to_plot[[col for col in x_col+[\"chromosome_id\"] if col in df_to_plot.columns]]\n",
    "rep_mean = df_to_plot[df_to_plot['chromosome_id']==Chr[0]][labels].iloc[[0]].values.flatten().tolist()\n",
    "rep_std = df_to_plot[df_to_plot['chromosome_id']==Chr[0]][labels].iloc[[1]].values.flatten().tolist()"
   ],
   "outputs": [],
   "execution_count": null
  },
  {
   "cell_type": "code",
   "metadata": {},
   "source": [
    "colors = ['g', '#66CDAA', 'm', '#8B008B', 'c', 'r', '#D70040']\n",
    "colors1 = ['k', 'k', 'k', 'k', 'k', 'k', 'k']\n",
    "bar_kwargs = {'color':colors1,'width':0.4,'linewidth':2}\n",
    "err_kwargs = {'zorder':0,'fmt':'none','linewidth':2,'ecolor':'k'}  #for matplotlib >= v1.4 use 'fmt':'none' instead\n",
    "fig, ax = plt.subplots()\n",
    "fig.set_size_inches(12, 8)\n",
    "fig.set_dpi(300)\n",
    "plt.style.use('classic')\n",
    "\n",
    "ax.p1 = plt.bar(ind, rep_mean,alpha =0.2, label= 'Chr='+str(Chr[0]), **bar_kwargs)\n",
    "ax.errs = plt.errorbar(ind, rep_mean, yerr=rep_std, solid_capstyle='projecting', capsize=5, **err_kwargs)\n",
    "converter = lambda x: x.replace('_', '-')\n",
    "labels = list(map(converter, labels))\n",
    "plt.xticks(ind, labels, color='k')\n",
    "color = []\n",
    "for col in labels:\n",
    "    temp = [i for i, s in enumerate(df_list_treat) if all([x in col for x in s.split(' ')])]\n",
    "    color.append(list(df_list_treat.items())[temp[0]][1])\n",
    "i = 0\n",
    "for xtick in ax.get_xticklabels():\n",
    "    xtick.set_color(color[i])\n",
    "    i = i + 1\n",
    "ax.set_ylabel('$\\ell^{*}$', fontsize=fsz+12, color='k')\n",
    "ax.tick_params('both',which='major', length=7,labelsize=fsz)\n",
    "ax.tick_params('both',which='minor', length=7,labelsize=fsz)\n",
    "plt.locator_params(axis='y', nbins=4)\n",
    "plt.xticks(rotation=70)\n",
    "plt.show()"
   ],
   "outputs": [],
   "execution_count": null
  },
  {
   "cell_type": "code",
   "metadata": {
    "collapsed": false
   },
   "source": [
    "df_chromosome_dist = pd.DataFrame(df.chromosome_id)\n",
    "for rep_entry in rep_list:\n",
    "    col_name = ''\n",
    "    print(rep_entry)\n",
    "    if any('WT' in rep_name for rep_name in rep_entry):\n",
    "        col_name = 'WT'\n",
    "    if any(('HGPS' in rep_name and 'NT' in rep_name) for rep_name in rep_entry):\n",
    "        col_name = 'HGPS-NT'\n",
    "    if any(('HGPS' in rep_name and 'SCR' in rep_name) for rep_name in rep_entry):\n",
    "        col_name = 'HGPS-SCR'\n",
    "    if any(('HGPS' in rep_name and 'ASO' in rep_name) for rep_name in rep_entry):\n",
    "        col_name = 'HGPS-L1-ASO'\n",
    "    if any(('WRN' in rep_name and 'NT' in rep_name) for rep_name in rep_entry):\n",
    "        col_name = 'WRN-NT'\n",
    "    if any(('WRN' in rep_name and 'SCR' in rep_name) for rep_name in rep_entry):\n",
    "        col_name = 'WRN-SCR'\n",
    "    if any(('WRN' in rep_name and 'ASO' in rep_name) for rep_name in rep_entry):\n",
    "        col_name = 'WRN-L1-ASO'\n",
    "    df_chromosome_dist[col_name]=df[rep_entry].mean(axis=1)"
   ],
   "outputs": [],
   "execution_count": null
  },
  {
   "cell_type": "code",
   "metadata": {
    "collapsed": false
   },
   "source": [
    "expt_order = ['WT', 'HGPS-L1-ASO','HGPS-SCR','HGPS-NT','WRN-L1-ASO','WRN-SCR','WRN-NT']\n",
    "df_chromosome_dist_melted_df = pd.melt(df_chromosome_dist,id_vars='chromosome_id',value_vars=list(df_chromosome_dist.columns))\n",
    "df_chromosome_dist_melted_df=df_chromosome_dist_melted_df.rename(columns={'value':'lstar'})\n",
    "\n",
    "df_chromosome_dist = df_chromosome_dist.set_index('chromosome_id')\n",
    "df_chromosome_dist_viol = pd.DataFrame(index=df_chromosome_dist.index)\n",
    "for col in df_chromosome_dist.columns:\n",
    "    df_chromosome_dist_viol[col] = (df_chromosome_dist[col]).astype(float)\n",
    "\n",
    "df_chromosome_dist_viol = df_chromosome_dist_viol.reset_index()\n",
    "df_chromosome_dist_viol_melted_df = pd.melt(df_chromosome_dist_viol,id_vars='chromosome_id',value_vars=expt_order)\n",
    "df_chromosome_dist_viol_melted_df = df_chromosome_dist_viol_melted_df.rename(columns={'value':'lstar'})"
   ],
   "outputs": [],
   "execution_count": null
  },
  {
   "cell_type": "code",
   "metadata": {
    "collapsed": false
   },
   "source": [
    "# Setup for Figure Supp 5 (Fig S5)\n",
    "fig, ax = plt.subplots()\n",
    "fig.set_size_inches(12, 10)\n",
    "fig.set_dpi(300)\n",
    "# Let's extract HGPS and WRN separately\n",
    "df_chromosome_dist_viol_HGPS = df_chromosome_dist_viol_melted_df[(df_chromosome_dist_viol_melted_df['variable'] == 'WT') | (df_chromosome_dist_viol_melted_df['variable'] == 'HGPS-L1-ASO') | (df_chromosome_dist_viol_melted_df['variable'] == 'HGPS-SCR') | (df_chromosome_dist_viol_melted_df['variable'] == 'HGPS-NT')]\n",
    "df_chromosome_dist_viol_WRN = df_chromosome_dist_viol_melted_df[(df_chromosome_dist_viol_melted_df['variable'] == 'WT') | (df_chromosome_dist_viol_melted_df['variable'] == 'WRN-L1-ASO') | (df_chromosome_dist_viol_melted_df['variable'] == 'WRN-SCR') | (df_chromosome_dist_viol_melted_df['variable'] == 'WRN-NT')]\n",
    "# To plot Fig S5a\n",
    "ax = sns.boxplot(data=df_chromosome_dist_viol_WRN, x='variable', y=\"lstar\",palette=['g','c','r','#D70040'], linewidth=2, medianprops=dict(linestyle='None'),meanline=True, showmeans=True, meanprops=dict(linestyle='-',linewidth = 2, color='black'), boxprops=dict(alpha=.6),zorder=1)\n",
    "# To plot Fig S5 b\n",
    "# ax = sns.boxplot(data=df_chromosome_dist_viol_HGPS, x='variable', y=\"lstar\",palette=['g','#66CDAA','m','#8B008B'], linewidth=2, medianprops=dict(linestyle='None'),meanline=True, showmeans=True, meanprops=dict(linestyle='-',linewidth = 2, color='black'), boxprops=dict(alpha=.6),zorder=1)\n",
    "setAlpha(ax,0.6)\n",
    "ax.grid(False)\n",
    "ax.set_ylabel('$\\ell^{*}$', fontsize=fsz+10, color='k')\n",
    "ax.set(xlabel=None)\n",
    "ax.tick_params('both',which='major', length=7,labelsize=fsz)\n",
    "ax.tick_params('both',which='minor', length=7,labelsize=fsz)\n",
    "plt.xticks(rotation=45)\n",
    "plt.show()\n",
    "plt.tight_layout()\n",
    "# plt.savefig(os.path.join(output_folder,(\"violin_plot_ell_L1_dbscan_HGPS\"+\".pdf\")), bbox_inches='tight')"
   ],
   "outputs": [],
   "execution_count": null
  },
  {
   "cell_type": "code",
   "metadata": {},
   "source": [
    "# Calculate Mann-Whitney test for a sample with respect to a reference.\n",
    "ref = 'WRN-L1-ASO'\n",
    "final = 'WRN-NT'\n",
    "df_ref = df_chromosome_dist_viol_melted_df[df_chromosome_dist_viol_melted_df['variable'] == ref]\n",
    "df_final = df_chromosome_dist_viol_melted_df[df_chromosome_dist_viol_melted_df['variable'] == final]\n",
    "x = df_ref['lstar']\n",
    "y = df_final['lstar']\n",
    "U,p_val = mannwhitneyu(x, y, alternative='two-sided')\n",
    "# No significant difference were seen using Mann Whitney test"
   ],
   "outputs": [],
   "execution_count": null
  },
  {
   "cell_type": "code",
   "metadata": {},
   "source": [
    "# Reading the files containing HAT and LAT genes. The genes labeled 1 are HATs and genes labeled 0 are LATs\n",
    "df_ec_hc = pd.DataFrame()\n",
    "counter = 0\n",
    "for chromosome_dir in os.listdir(ec_hc_mask_folder):\n",
    "    f = os.path.join(ec_hc_mask_folder,chromosome_dir)\n",
    "    if os.path.isdir(f):\n",
    "        for filename in os.listdir(f):\n",
    "            if filename.endswith(\"_ec_hc_mask_xy.csv\"):  # Check for files that match the pattern\n",
    "                file_path = os.path.join(f, filename)  # Get the full path of the file\n",
    "                df_ec_hc_temp = pd.read_csv(file_path)\n",
    "                df_ec_hc_temp.drop(['StartPos','EndPos'],axis=1,inplace=True)\n",
    "                df_ec_hc_temp = df_ec_hc_temp.set_index('Gene_ID')\n",
    "                if counter == 0:\n",
    "                    df_ec_hc = df_ec_hc_temp\n",
    "                else:\n",
    "                    df_ec_hc = df_ec_hc.add(df_ec_hc_temp, fill_value=0)\n",
    "                counter = counter+1\n",
    "df_ec_hc['sum'] = df_ec_hc.sum(axis=1)\n",
    "df_ec_hc = df_ec_hc[df_ec_hc['sum']>0]\n",
    "index_ec_genes = list(df_ec_hc.index)"
   ],
   "outputs": [],
   "execution_count": null
  },
  {
   "cell_type": "markdown",
   "metadata": {},
   "source": [
    "### Analysis and plotting for Fig. 3\n",
    "### Pairwise similarity plot. "
   ]
  },
  {
   "cell_type": "code",
   "metadata": {},
   "source": [
    "## Analysis and plotting for Fig. 3\n",
    "# Pairwise similarity plot. \n",
    "# First we will calculate the manhattan distance for l* with respect to a reference (WT in this case)\n",
    "df.sort_values(by=['chromosome_id'],inplace=True)\n",
    "df_vec = df.reset_index(drop=True)\n",
    "df_list = df_vec.loc[:, df.columns != 'chromosome_id'].to_numpy()\n",
    "dist_df = pd.DataFrame(columns= ['reference'] + expt_list)\n",
    "ref_list = rep_list[0] # WT is used as a reference\n",
    "# Let's assign the ref_list for this case\n",
    "label_list = []\n",
    "for item in rep_list:\n",
    "    x = item[0].split('_')\n",
    "    if len(x) == 3:\n",
    "        label_list.append(x[0])\n",
    "    elif len(x) == 5:\n",
    "        label_list.append(x[0]+\"_\"+x[2]+\"_\"+x[3])\n",
    "    else:\n",
    "        label_list.append(x[0]+\"_\"+x[2])\n",
    "dist_df['reference'] = ref_list\n",
    "print(df_vec)\n",
    "for i in range(0,len(rep_list)):\n",
    "    for rep1, rep2 in itertools.product(ref_list,rep_list[i]):\n",
    "        dist = distance.cityblock(df_vec[rep1],df_vec[rep2])\n",
    "        dist_df.loc[dist_df['reference'] == rep1,rep2] = dist\n",
    "print(dist_df)"
   ],
   "outputs": [],
   "execution_count": null
  },
  {
   "cell_type": "code",
   "metadata": {},
   "source": [
    "# Setting up the mean and standard deviation plot\n",
    "dist_list = []\n",
    "dist_list_std = []\n",
    "dist_list_df = pd.DataFrame(columns= label_list)\n",
    "dist_list_df_std = pd.DataFrame(columns= label_list)\n",
    "for rep in rep_list:\n",
    "    dist_list.append(np.average(dist_df[rep].mean().to_numpy()))\n",
    "    dist_list_std.append(np.std(dist_df[rep].to_numpy()))\n",
    "\n",
    "dist_list_df = dist_list_df.append(pd.DataFrame([dist_list], columns= label_list), ignore_index=True)\n",
    "dist_list_df_std = dist_list_df_std.append(pd.DataFrame([dist_list_std], columns= label_list), ignore_index=True)\n",
    "# Setting up the plotting tool\n",
    "df_sim_auto_corr = pd.concat([dist_list_df,dist_list_df_std])\n",
    "df_sim_auto_corr = df_sim_auto_corr.T.reset_index()\n",
    "df_sim_auto_corr.columns = ['Expt','mean','std']\n",
    "x_col = ['WT', 'HGPS_L1_ASO', 'HGPS_SCR','HGPS_NT', 'WRN_L1_ASO', 'WRN_SCR', 'WRN_NT']\n",
    "df_sim_auto_corr['Expt'] = pd.Categorical(df_sim_auto_corr.Expt, categories=x_col, ordered=True)\n",
    "df_sim_auto_corr = df_sim_auto_corr.sort_values('Expt')\n",
    "print(df_sim_auto_corr)\n",
    "# Save these values as well\n",
    "# df_main.to_csv(os.path.join(output_folder,\"pair_wise_similarity_autocorr_L1_dbscan_gamma1.csv\"),index=False)\n"
   ],
   "outputs": [],
   "execution_count": null
  },
  {
   "cell_type": "code",
   "metadata": {},
   "source": [
    "# Calculating the manhattan distance for the raw expression data with respect to a reference (WT in this case)\n",
    "df = pd.read_csv(input_file)\n",
    "result = defaultdict(list)\n",
    "dist_list = []\n",
    "dist_list_std = []\n",
    "dist_list_df = pd.DataFrame(columns= label_list)\n",
    "\n",
    "for i in range(0,len(rep_list)):\n",
    "    result = []\n",
    "    for rep1, rep2 in itertools.product(ref_list,rep_list[i]):\n",
    "        dist = 0\n",
    "        counter = 0\n",
    "        for chromosome,data in df.groupby('Chromosome'):\n",
    "            # if chromosome.isdigit() and 0 < int(chromosome) < 23:\n",
    "            if chromosome.isalnum() and chromosome != 'MT':\n",
    "                counter = counter + 1\n",
    "                normalized_df = data_preprocessing(data,[rep1,rep2])\n",
    "                normalized_df = normalized_df[normalized_df['Gene_ID'].isin(index_ec_genes)].reset_index(drop=True) # Filter out EC genes\n",
    "                # Let's calculate the similarity distance between the two distributions\n",
    "                dist = dist + distance.cityblock(normalized_df[rep1],normalized_df[rep2])\n",
    "        avg_dist = dist/counter\n",
    "        result.append(avg_dist)\n",
    "    dist_list_df[label_list[i]] = result\n",
    "    \n",
    "for rep in label_list:\n",
    "    dist_list.append(dist_list_df[rep].mean()) # Take mean across chromosome\n",
    "    dist_list_std.append(dist_list_df[rep].std())\n",
    "df_sim_exp = pd.DataFrame([dist_list,dist_list_std],columns = label_list)\n",
    "df_sim_exp = df_sim_exp.T.reset_index()\n",
    "df_sim_exp.columns = ['Expt','mean','std']\n",
    "x_col = ['WT', 'HGPS_L1_ASO', 'HGPS_SCR','HGPS_NT', 'WRN_L1_ASO', 'WRN_SCR', 'WRN_NT']\n",
    "df_sim_exp['Expt'] = pd.Categorical(df_sim_exp.Expt, categories=x_col, ordered=True)\n",
    "df_sim_exp.sort_values('Expt', inplace=True)\n",
    "print(df_sim_exp)\n",
    "\n",
    "# Let's save these values as well\n",
    "# df_main.to_csv(os.path.join(output_folder,\"pair_wise_similarity_expression_L1_dbscan_gamma1.csv\"),index=False)"
   ],
   "outputs": [],
   "execution_count": null
  },
  {
   "cell_type": "code",
   "metadata": {},
   "source": [
    "## We can plot now\n",
    "y_exp = df_sim_exp['mean'].to_list()\n",
    "yerr_exp = df_sim_exp['std'].to_list()\n",
    "y_autocorr = df_sim_auto_corr['mean'].to_list()\n",
    "yerr_autocorr = df_sim_auto_corr['std'].to_list()\n",
    "x_label = df_sim_auto_corr['Expt'].to_list()\n",
    "\n",
    "y_exp.insert(4, y_exp[0])\n",
    "yerr_exp.insert(4, yerr_exp[0])\n",
    "y_autocorr.insert(4, y_autocorr[0])\n",
    "yerr_autocorr.insert(4, yerr_autocorr[0])\n",
    "x_label.insert(4, x_label[0])\n",
    "x1 = [1,2,3,4]\n",
    "\n",
    "# Setting up the plotting tool\n",
    "fsz = 28\n",
    "fig, ax = plt.subplots()\n",
    "fig.set_size_inches(12, 8)\n",
    "fig.set_dpi(300)\n",
    "\n",
    "r_list = (0,4) # 0,4 for HGPS; 4,8 for WRN\n",
    "plt.plot(x1,y_exp[r_list[0]:r_list[1]],'-b',linewidth = 3)\n",
    "plt.errorbar(x1, y_exp[r_list[0]:r_list[1]], yerr=yerr_exp[r_list[0]:r_list[1]], fmt='o', markersize=8, capsize=10,markeredgecolor='b', color=\"b\", elinewidth=2, markeredgewidth=2)\n",
    "plt.xticks(rotation=45)\n",
    "ax1 = ax.twinx()\n",
    "ax1.plot(x1,y_autocorr[r_list[0]:r_list[1]],'-r',linewidth = 3)\n",
    "ax1.errorbar(x1, y_autocorr[r_list[0]:r_list[1]], yerr=yerr_autocorr[r_list[0]:r_list[1]], fmt='o', markersize=8,markeredgecolor='r', capsize=10, color=\"r\", elinewidth=2, markeredgewidth=2)\n",
    "\n",
    "ax.set_ylabel(r'$\\mathcal{D}(\\alpha_t)$', fontsize=fsz+10, color='k')\n",
    "ax1.set_ylabel(r'$\\mathcal{D}(\\ell^{*})$', fontsize=fsz+10, color='k')\n",
    "ax.set_xlim(left=0.9,right=4.1)\n",
    "ax1.set_ylim(bottom=0,top=50)\n",
    "ax.set_ylim(bottom=0,top=0.5)\n",
    "\n",
    "ax1.locator_params(axis = 'y', nbins=5)\n",
    "ax.locator_params(axis = 'y', nbins=5)\n",
    "converter = lambda x: x.replace('_', '-')\n",
    "x_label = list(map(converter, x_label))\n",
    "\n",
    "ax.set_xticks(x1)\n",
    "ax.set_xticklabels(x_label[r_list[0]:r_list[1]])\n",
    "\n",
    "# Setting the color for the axis\n",
    "color = []\n",
    "for col in x_label[r_list[0]:r_list[1]]:\n",
    "    # temp = [i for i, s in enumerate(df_list_treat) if s in col]\n",
    "    temp = [i for i, s in enumerate(df_list_treat) if all([x in col for x in s.split(' ')])]\n",
    "    color.append(list(df_list_treat.items())[temp[0]][1])\n",
    "i = 0\n",
    "for xtick in ax.get_xticklabels():\n",
    "    xtick.set_color(color[i])\n",
    "    i = i + 1\n",
    "\n",
    "ax.yaxis.label.set_color('b')\n",
    "ax1.spines[\"left\"].set_edgecolor('b')\n",
    "ax.tick_params(axis='y', colors='b')\n",
    "ax1.yaxis.label.set_color('r')\n",
    "ax1.spines[\"right\"].set_edgecolor('r')\n",
    "ax1.tick_params(axis='y', colors='r')\n",
    "ax.tick_params('both',which='major', length=7,labelsize=fsz)\n",
    "ax.tick_params('both',which='minor', length=7,labelsize=fsz)\n",
    "ax1.tick_params('both',which='major', length=7,labelsize=fsz)\n",
    "ax1.tick_params('both',which='minor', length=7,labelsize=fsz)\n",
    "plt.tight_layout()\n",
    "# plt.savefig(os.path.join(output_folder,(\"pair_wise_similarity_HGPS_dbscan_gamma1\"+\".pdf\")), bbox_inches='tight')"
   ],
   "outputs": [],
   "execution_count": null
  },
  {
   "cell_type": "markdown",
   "metadata": {},
   "source": [
    "### Differential analysis plot"
   ]
  },
  {
   "cell_type": "code",
   "metadata": {},
   "source": [
    "## Let's work on the differential analysis plot\n",
    "# Fig S6 is done\n",
    "counts_df = pd.read_csv(os.path.join(input_folder,\"Line1\",\"DiffAnalysis\",\"Line1_Deseq2.csv\"))\n",
    "clinical_df = pd.read_csv(os.path.join(input_folder,\"Line1\",\"DiffAnalysis\",\"Input_type.csv\"))\n",
    "input_file_genelen = pd.read_csv(os.path.join(input_folder,\"Line1\",\"DiffAnalysis\",\"Gene_length.csv\"))\n",
    "counts_df = counts_df.set_index('Gene_ID')\n",
    "clinical_df = clinical_df.set_index('Samples')\n",
    "counts_df = counts_df.T"
   ],
   "outputs": [],
   "execution_count": null
  },
  {
   "cell_type": "code",
   "metadata": {},
   "source": [
    "# Preprocessing the data for which annotations are missing and exclude genes with very low levels of expression\n",
    "samples_to_keep = ~clinical_df.condition.isna()\n",
    "counts_df = counts_df.loc[samples_to_keep]\n",
    "clinical_df = clinical_df.loc[samples_to_keep]"
   ],
   "outputs": [],
   "execution_count": null
  },
  {
   "cell_type": "code",
   "metadata": {},
   "source": [
    "# filter out genes that have less than 10 read counts\n",
    "genes_to_keep = counts_df.columns[counts_df.sum(axis=0) >= 10]\n",
    "counts_df = counts_df[genes_to_keep]"
   ],
   "outputs": [],
   "execution_count": null
  },
  {
   "cell_type": "code",
   "metadata": {},
   "source": [
    "dds = DeseqDataSet(\n",
    "    counts=counts_df,\n",
    "    metadata=clinical_df,\n",
    "    design_factors=\"condition\",\n",
    "    refit_cooks=True,\n",
    "    ref_level = [\"condition\", \"WT\"], #Here we consider the reference level to be the WT samples\n",
    "    n_cpus=4,\n",
    ")\n",
    "\n",
    "dds.deseq2()"
   ],
   "outputs": [],
   "execution_count": null
  },
  {
   "cell_type": "code",
   "metadata": {},
   "source": [
    "stat_res = DeseqStats(dds, contrast=['condition', 'HGPS_NT', 'WT'], n_cpus=4)  \n",
    "# Change 'HGPS_NT' to other conditions if needed\n",
    "\n",
    "results_summary = stat_res.summary()\n",
    "stat_res.lfc_shrink(coeff=\"condition_HGPS_NT_vs_WT\")"
   ],
   "outputs": [],
   "execution_count": null
  },
  {
   "cell_type": "code",
   "metadata": {},
   "source": [
    "stat_res_padj = stat_res.results_df[stat_res.results_df['padj']<1e-4]\n",
    "up_regulated = stat_res_padj[stat_res_padj['log2FoldChange'] > 0.0]\n",
    "down_regulated = stat_res_padj[stat_res_padj['log2FoldChange'] < 0.0]\n",
    "stat_res_padj = stat_res_padj.reset_index()"
   ],
   "outputs": [],
   "execution_count": null
  },
  {
   "cell_type": "code",
   "metadata": {},
   "source": [
    "df_annot = pd.read_csv(os.path.join(input_folder,\"Line1\",\"DiffAnalysis\",\"GeneId_Start_End_Chr.csv\"))\n",
    "\n",
    "lfc_mark = stat_res_padj[(stat_res_padj['log2FoldChange'] < 0) | (stat_res_padj['log2FoldChange'] > 0)][['Gene_ID','log2FoldChange','padj']]\n",
    "# Let's find the genes on chromosome 1 and 6\n",
    "df2 = pd.merge(df_annot, lfc_mark, on = \"Gene_ID\", how = 'inner')\n",
    "df2.sort_values(\"log2FoldChange\",inplace = True, ascending = False)\n",
    "df2 = pd.concat([df2.head(100),df2.tail(100)])\n",
    "print(df2)"
   ],
   "outputs": [],
   "execution_count": null
  },
  {
   "cell_type": "code",
   "metadata": {},
   "source": [
    "lfc_neg1 = stat_res_padj[stat_res_padj['log2FoldChange'] < -1]\n",
    "lfc_pos1 = stat_res_padj[stat_res_padj['log2FoldChange'] > 1]\n",
    "lfc_thr1 = stat_res_padj[stat_res_padj['log2FoldChange'].between(-1, 1)]\n",
    "\n",
    "lfc_neg = df2[df2['log2FoldChange'] < -1]\n",
    "lfc_pos = df2[df2['log2FoldChange'] > 1]\n",
    "lfc_thr = df2[df2['log2FoldChange'].between(-1, 1)]"
   ],
   "outputs": [],
   "execution_count": null
  },
  {
   "cell_type": "code",
   "metadata": {},
   "source": [
    "df2_up_Chr1 = df2[df2['Chromosome'] == '1'].reset_index()\n",
    "df2_up_Chr6 = df2[df2['Chromosome'] == '6'].reset_index()\n",
    "\n",
    "x_Chr6, y_Chr6, s_Chr6 = df2_up_Chr6['log2FoldChange'], df2_up_Chr6['padj'], df2_up_Chr6['Chromosome']\n",
    "x_Chr1, y_Chr1, s_Chr1 = df2_up_Chr1['log2FoldChange'], df2_up_Chr1['padj'], df2_up_Chr1['Chromosome']"
   ],
   "outputs": [],
   "execution_count": null
  },
  {
   "cell_type": "code",
   "metadata": {},
   "source": [
    "x_gene = df2[df2['Gene_ID'].isin(['ENSG00000117595', 'ENSG00000162433'])]['log2FoldChange']\n",
    "y_gene = df2[df2['Gene_ID'].isin(['ENSG00000117595', 'ENSG00000162433'])]['padj']\n",
    "s_gene = ['AK4', 'IRF6']"
   ],
   "outputs": [],
   "execution_count": null
  },
  {
   "cell_type": "code",
   "metadata": {},
   "source": [
    "fig, ax = plt.subplots()\n",
    "fig.set_size_inches(12, 8)\n",
    "fig.set_dpi(300)\n",
    "\n",
    "al_val = 0.05\n",
    "plt.plot(lfc_neg1['log2FoldChange'], -np.log10(lfc_neg1['padj']), 'or', alpha=al_val, markersize=6)\n",
    "plt.plot(lfc_pos1['log2FoldChange'], -np.log10(lfc_pos1['padj']), 'og', alpha=al_val, markersize=6)\n",
    "plt.plot(lfc_thr1['log2FoldChange'], -np.log10(lfc_thr1['padj']), 'o', color='grey', alpha=al_val, markersize=6)\n",
    "\n",
    "al_val = 0.8\n",
    "plt.plot(lfc_neg['log2FoldChange'], -np.log10(lfc_neg['padj']), 'or', alpha=al_val, markersize=6)\n",
    "plt.plot(lfc_pos['log2FoldChange'], -np.log10(lfc_pos['padj']), 'og', alpha=al_val, markersize=6)\n",
    "plt.plot(lfc_thr['log2FoldChange'], -np.log10(lfc_thr['padj']), 'o', color='grey', alpha=al_val, markersize=6)\n",
    "\n",
    "for i, txt in enumerate(s_Chr6):\n",
    "    ax.annotate(txt, (x_Chr6.iloc[i], -np.log10(y_Chr6.iloc[i])), fontsize=fsz-10)\n",
    "\n",
    "ax.set_ylabel('$-\\log_{10}$(P-value)', fontsize=fsz, color='k')\n",
    "ax.set_xlabel('$\\log_2$(Fold change)', fontsize=fsz, color='k')\n",
    "ax.tick_params('both', which='major', length=7, labelsize=fsz)\n",
    "ax.tick_params('both', which='minor', length=7, labelsize=fsz)\n",
    "\n",
    "# plt.savefig(os.path.join(output_folder, \"Diff_Analysis_Chr6_HGPS_NT_WT.pdf\"), bbox_inches='tight')\n",
    "plt.show()\n"
   ],
   "outputs": [],
   "execution_count": null
  },
  {
   "cell_type": "markdown",
   "metadata": {},
   "source": [
    "### Creating Subplots"
   ]
  },
  {
   "cell_type": "code",
   "metadata": {},
   "source": [
    "## Fig S2 a and b\n",
    "def fit_distribution_2d_comp(normalized_df, expt_name):\n",
    "    fig, axs = plt.subplots(1, len(expt_name), figsize=(14, 6), sharex=True, sharey=True)\n",
    "    i = 0\n",
    "    # Plot PDF as a histogram\n",
    "    title_label = [\"WT\", \"HGPS-NT\"]\n",
    "    for expt in expt_name:\n",
    "        print(expt)\n",
    "        m6_gid = mask_6.loc[mask_6[expt] == 1]['Gene_ID'].tolist()\n",
    "        temp = normalized_df.loc[normalized_df.Gene_ID.isin(m6_gid)]\n",
    "        dpgmm = mixture.BayesianGaussianMixture(n_components=10, covariance_type='full')\n",
    "        temp['cluster_' + expt] = dpgmm.fit_predict(temp[['index', expt]])\n",
    "\n",
    "        gmm = mixture.GaussianMixture(n_components=len(set(temp['cluster_' + expt])), covariance_type='full').fit(temp[['index', expt]])\n",
    "        x_min = normalized_df['index'].min()\n",
    "        x_max = normalized_df['index'].max()\n",
    "\n",
    "        x_range = np.linspace(x_min, x_max, len(normalized_df))\n",
    "        y_range = np.linspace(normalized_df[expt].min(), normalized_df[expt].max(), len(normalized_df))\n",
    "        X, Y = np.meshgrid(x_range, y_range)\n",
    "\n",
    "        pdf = np.exp(gmm._estimate_log_prob(np.column_stack([X.ravel(), Y.ravel()])))\n",
    "        overall_pdf = np.sum(pdf, axis=1)\n",
    "        \n",
    "        axs[i].plot(x_range, overall_pdf[0:len(x_range)], linestyle='--', linewidth=2)\n",
    "        axs[i].plot(x_range, pdf[0:len(x_range)])\n",
    "        axs[i].set_title(title_label[i], fontsize=fsz-8)\n",
    "        axs[i].set_ylim(bottom=0, top=0.3)\n",
    "        \n",
    "        axs[i].tick_params('both',which='major', length=7,labelsize=fsz-8)\n",
    "        axs[i].tick_params('both',which='minor', length=7,labelsize=fsz-8)\n",
    "        i = i + 1\n",
    "\n",
    "    # Set common labels\n",
    "    fig.text(0.5, 0.04, 'Genomic coordinates sorted by their position', ha='center', fontsize=fsz-10, color='k')\n",
    "    fig.text(0.04, 0.5, 'Probability distribution of gene expression', va='center', rotation='vertical', fontsize=fsz-10, color='k')\n",
    "\n",
    "    plt.tight_layout(rect=[0.05, 0.05, 1, 0.95])\n",
    "    # plt.savefig(os.path.join(output_folder,(\"P_dist_genomic_coord_chrom6_gamma1\"+\".pdf\")), bbox_inches='tight')\n",
    "    plt.show()"
   ],
   "outputs": [],
   "execution_count": null
  },
  {
   "cell_type": "code",
   "metadata": {},
   "source": [
    "df = pd.read_csv(input_file)\n",
    "for chromosome,data in df.groupby('Chromosome'):\n",
    "    expt_list = [item for sublist in rep_list for item in sublist]\n",
    "    if (chromosome.isdigit() and int(chromosome) == 6):\n",
    "        data.sort_values(by=['StartPos','EndPos'],inplace=True) \n",
    "        normalized_df = data_preprocessing(data,expt_list)\n",
    "        normalized_df = normalized_df.drop(['index'],axis=1)\n",
    "        normalized_df = normalized_df.reset_index()\n",
    "        break"
   ],
   "outputs": [],
   "execution_count": null
  },
  {
   "cell_type": "code",
   "metadata": {},
   "source": [
    "mask_6 = pd.read_csv(os.path.join(ec_hc_mask_folder, \"chromosome_6\", 'chromosome_6_ec_hc_mask_xy.csv'))\n",
    "expt_name_WT = ['WT_1_1','WT_2_1','WT_3_1']\n",
    "expt_name_NT = ['HGPS_917_NT_1', 'HGPS_478_NT_1', 'HGPS_297_NT_1']\n",
    "expt_name_comp = [expt_name_WT[0],expt_name_NT[0]]\n",
    "fit_distribution_2d_comp(normalized_df,expt_name_comp)"
   ],
   "outputs": [],
   "execution_count": null
  },
  {
   "cell_type": "code",
   "metadata": {},
   "source": [],
   "outputs": [],
   "execution_count": null
  }
 ],
 "metadata": {
  "kernelspec": {
   "display_name": "Python 3",
   "language": "python",
   "name": "python3"
  },
  "language_info": {
   "codemirror_mode": {
    "name": "ipython",
    "version": 3
   },
   "file_extension": ".py",
   "mimetype": "text/x-python",
   "name": "python",
   "nbconvert_exporter": "python",
   "pygments_lexer": "ipython3",
   "version": "3.10.16"
  }
 },
 "nbformat": 4,
 "nbformat_minor": 4
}
