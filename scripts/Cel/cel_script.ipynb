{
 "cells": [
  {
   "cell_type": "markdown",
   "metadata": {},
   "source": [
    "### Imports and loading config data"
   ]
  },
  {
   "cell_type": "code",
   "metadata": {
    "collapsed": true
   },
   "source": [
    "# Main script to generate energy landscape for each chromosome\n",
    "import pandas as pd\n",
    "import numpy as np\n",
    "import yaml\n",
    "import os\n",
    "from pathlib import Path\n",
    "import seaborn as sns\n",
    "import matplotlib.pyplot as plt\n",
    "import itertools\n",
    "from scipy.ndimage import gaussian_filter\n",
    "\n",
    "import warnings\n",
    "warnings.filterwarnings('ignore')"
   ],
   "outputs": [],
   "execution_count": null
  },
  {
   "cell_type": "code",
   "metadata": {},
   "source": [
    "## Load configuration file\n",
    "with open('params_cel.yaml', 'rb') as f:\n",
    "    conf = yaml.safe_load(f.read())   \n",
    "\n",
    "## plot settings\n",
    "plt.rc('text', usetex = True)\n",
    "plt.rc('font', **{'family' : \"sans-serif\"})\n",
    "plt.rc('text.latex', preamble=r\"\\usepackage{amsmath}\"\n",
    "           r\"\\usepackage{amstext}\")\n",
    "plt.rcParams[\"axes.linewidth\"] = 2.50\n",
    "plt.rcParams['xtick.major.size'] = 20\n",
    "plt.rcParams['ytick.major.size'] = 20\n",
    "sns.set_style(style='white')\n",
    "%matplotlib inline\n",
    "fsz = 28"
   ],
   "outputs": [],
   "execution_count": null
  },
  {
   "cell_type": "code",
   "metadata": {
    "collapsed": false
   },
   "source": [
    "# Load general settings from the config file\n",
    "save_img = conf['settings']['save_img']\n",
    "active_dataset = conf[\"settings\"][\"active_dataset\"]\n",
    "dataset_config = conf[\"datasets\"][active_dataset]\n",
    "\n",
    "# Load dataset-specific parameters\n",
    "input_file = dataset_config['input_file']\n",
    "output_folder = dataset_config['output_folder']\n",
    "ec_hc_mask_folder = dataset_config['ec_hc_mask_folder']\n",
    "experiment_groups = dataset_config['experiment_groups']\n",
    "cross_group_pairs = dataset_config['cross_group_pairs']"
   ],
   "outputs": [],
   "execution_count": null
  },
  {
   "cell_type": "markdown",
   "metadata": {},
   "source": [
    "### Data preprocessing"
   ]
  },
  {
   "cell_type": "code",
   "metadata": {
    "collapsed": false
   },
   "source": [
    "def data_preprocessing(df,expt_list):\n",
    "    normalized_df = df[['Gene_ID']]\n",
    "    for expt in expt_list:\n",
    "        normalized_df[expt] = df[expt] /  df[expt].max()\n",
    "    normalized_df = normalized_df.set_index('Gene_ID')\n",
    "    return  normalized_df"
   ],
   "outputs": [],
   "execution_count": null
  },
  {
   "cell_type": "code",
   "metadata": {
    "collapsed": false
   },
   "source": [
    "class StopExecution(Exception):\n",
    "    def _render_traceback_(self):\n",
    "        pass"
   ],
   "outputs": [],
   "execution_count": null
  },
  {
   "cell_type": "markdown",
   "metadata": {},
   "source": [
    "### Read and aggregate HAT and LAT gene data"
   ]
  },
  {
   "cell_type": "code",
   "metadata": {
    "collapsed": false
   },
   "source": [
    "df_ec_hc = pd.DataFrame()\n",
    "counter = 0\n",
    "\n",
    "for chromosome_dir in os.listdir(ec_hc_mask_folder):\n",
    "    f = os.path.join(ec_hc_mask_folder, chromosome_dir)\n",
    "    if os.path.isdir(f):\n",
    "        for filename in os.listdir(f):\n",
    "            if filename.endswith(\"_ec_hc_mask_xy.csv\"):  # Check for files that match the pattern\n",
    "                file_path = os.path.join(f, filename)  # Get the full path of the file\n",
    "                df_ec_hc_temp = pd.read_csv(file_path)\n",
    "                df_ec_hc_temp.drop(['StartPos','EndPos'],axis=1,inplace=True)\n",
    "                df_ec_hc_temp = df_ec_hc_temp.set_index('Gene_ID')\n",
    "                if counter == 0:\n",
    "                    df_ec_hc = df_ec_hc_temp\n",
    "                else:\n",
    "                    df_ec_hc = df_ec_hc.add(df_ec_hc_temp, fill_value=0)\n",
    "                counter = counter+1\n",
    "                \n",
    "df_ec_hc['sum'] = df_ec_hc.sum(axis=1)\n",
    "df_ec_hc = df_ec_hc[df_ec_hc['sum']>0]\n",
    "index_ec_genes = list(df_ec_hc.index)"
   ],
   "outputs": [],
   "execution_count": null
  },
  {
   "cell_type": "markdown",
   "metadata": {},
   "source": [
    "### Analysis and Helping functions"
   ]
  },
  {
   "cell_type": "code",
   "metadata": {
    "collapsed": false
   },
   "source": [
    "def calc_statistics(df,expt,is_from=True):\n",
    "    df = df[[expt]].reset_index()\n",
    "    df.sort_values([expt,'Gene_ID'],ascending=False,inplace=True)\n",
    "    rank =  np.arange(1, len(df)+1 )\n",
    "    if is_from:\n",
    "        df['rank_frm'] = rank\n",
    "        df['norm_rank_frm'] = rank[::-1]\n",
    "        df['norm_rank_frm'] = ((df['norm_rank_frm']-1)/(df['norm_rank_frm'].max()-1))\n",
    "        df['weight_from'] = df[expt] # Using just the transcript abundance\n",
    "    else:\n",
    "        df['rank_to'] = rank\n",
    "        df['norm_rank_to'] = rank[::-1]\n",
    "        df['norm_rank_to'] = ((df['norm_rank_to']-1)/(df['norm_rank_to'].max()-1))\n",
    "        df['weight_to'] = df[expt] # Using just the transcript abundance\n",
    "\n",
    "    df = df.set_index('Gene_ID')\n",
    "    return df"
   ],
   "outputs": [],
   "execution_count": null
  },
  {
   "cell_type": "code",
   "metadata": {
    "collapsed": false
   },
   "source": [
    "# Aggregate all the weights across different replicate combinations for a cross grp\n",
    "def create_transition_matrix(frm_expt_lst,to_expt_lst):\n",
    "    transition_mtrx = pd.DataFrame()\n",
    "    count=0\n",
    "    for frm_expt, to_expt in itertools.product(frm_expt_lst, to_expt_lst): # It takes all possible combinations between the two samples\n",
    "        normalized_df = data_preprocessing(data,frm_expt_lst+to_expt_lst)\n",
    "\n",
    "        frm_expt_normalized_df = calc_statistics(normalized_df,frm_expt,True)\n",
    "        to_expt_normalized_df = calc_statistics(normalized_df,to_expt,False)\n",
    "\n",
    "        frm_to_expt_normalized_df = pd.concat([frm_expt_normalized_df,to_expt_normalized_df], axis=1)\n",
    "\n",
    "        frm_to_expt_normalized_df['diff_weight']  = (\n",
    "                    frm_to_expt_normalized_df['weight_to'] - frm_to_expt_normalized_df['weight_from'])\n",
    "        temp_matrix_df = pd.DataFrame(frm_to_expt_normalized_df.pivot('rank_to', 'rank_frm', 'diff_weight')).fillna(0)\n",
    "        \n",
    "        if count ==0:\n",
    "            transition_mtrx = temp_matrix_df\n",
    "        else:\n",
    "            transition_mtrx = transition_mtrx.add(temp_matrix_df, fill_value=0)\n",
    "        count = count+1\n",
    "    transition_mtrx = transition_mtrx/count\n",
    "    return transition_mtrx"
   ],
   "outputs": [],
   "execution_count": null
  },
  {
   "cell_type": "code",
   "metadata": {
    "collapsed": false
   },
   "source": [
    "def smooth_transition_mtrx(filter_size,transition_mtrx):\n",
    "    transition_mtrx = gaussian_filter(transition_mtrx,filter_size)\n",
    "    return transition_mtrx"
   ],
   "outputs": [],
   "execution_count": null
  },
  {
   "cell_type": "markdown",
   "metadata": {},
   "source": [
    "### Plotting functions"
   ]
  },
  {
   "cell_type": "code",
   "metadata": {
    "collapsed": false
   },
   "source": [
    "def plot_energy_landscape(energy, chromosome_output_folder, cross_grp):\n",
    "    plt.figure(figsize = (12,10))\n",
    "    heatmap = sns.heatmap(energy,cmap=plt.cm.seismic,robust=True,center=0,xticklabels = 100, yticklabels = 100, vmin=-0.00007, vmax=0.00004)\n",
    "    lab = cross_grp.split('=>')\n",
    "    # Removing the underscore from the labels and add hyphen instead\n",
    "    if lab[0] != 'WT':\n",
    "        if lab[0].split('_')[1] =='ASO':\n",
    "            lab[0] = lab[0].split('_')[0] + '-L1-' + lab[0].split('_')[1]\n",
    "        else:\n",
    "            lab[0] = lab[0].split('_')[0] + '-' + lab[0].split('_')[1]\n",
    "\n",
    "    if lab[1] != 'WT':\n",
    "        if lab[1].split('_')[1] =='ASO':\n",
    "            lab[1] = lab[1].split('_')[0] + '-L1-' + lab[1].split('_')[1]\n",
    "        else:\n",
    "            lab[1] = lab[1].split('_')[0] + '-' + lab[1].split('_')[1]\n",
    "\n",
    "    heatmap.set_xlabel(lab[0],fontsize = fsz, color='k')\n",
    "    heatmap.set_ylabel(lab[1],fontsize = fsz, color='k')\n",
    "    heatmap.tick_params(axis='y', length=1)\n",
    "    heatmap.tick_params(axis='x', length=1)\n",
    "    heatmap.set_xticklabels(heatmap.get_xmajorticklabels(), fontsize = fsz)\n",
    "    heatmap.set_yticklabels(heatmap.get_xmajorticklabels(), fontsize = fsz)\n",
    "    cax = heatmap.figure.axes[-1]\n",
    "    cax.set_ylabel(r'$\\mathrm{d} U/k_{\\mathrm{B}}T$', size=fsz+4)\n",
    "    cax.tick_params(labelsize=fsz, length=1)\n",
    "    cax.yaxis.offsetText.set(size=fsz-8) # This will also keep the size of 10^(-4) that will go on top of colorbar\n",
    "    for _, spine in heatmap.spines.items():\n",
    "        spine.set_visible(True)\n",
    "        spine.set_linewidth(2)\n",
    "        spine.set_color(\"black\")\n",
    "    filename= cross_grp+\"_hm.png\"\n",
    "    plt.savefig(os.path.join(chromosome_output_folder, filename),format='png', bbox_inches='tight',dpi=512)\n",
    "    plt.close()"
   ],
   "outputs": [],
   "execution_count": null
  },
  {
   "cell_type": "code",
   "metadata": {
    "collapsed": false
   },
   "source": [
    "# Let's try to get the area of the above triangle and area of the lower triangle\n",
    "def plot_auc_2D(energy):\n",
    "\n",
    "    # The below steps are performed to keep the characterisitc shape of the matrices\n",
    "    indices = np.triu_indices(energy.shape[0], k=0)\n",
    "    energy_ut = np.zeros_like(energy)\n",
    "    energy_ut[indices] = energy[indices]\n",
    "    indices = np.tril_indices(energy.shape[0])\n",
    "    lower_tri = energy[indices]\n",
    "    # Reshape the lower triangle elements to a 2D array\n",
    "    n = energy.shape[0]\n",
    "    energy_lt = np.zeros((n, n), dtype=energy.dtype)\n",
    "    energy_lt[indices] = lower_tri\n",
    "\n",
    "    # Next step is to calculate the double integral of the upper and the lower triangle along with the difference\n",
    "    # between the two using the trapz function.\n",
    "    auc_2d_ut_x = np.zeros(len(energy))\n",
    "    auc_2d_lt_x = np.zeros(len(energy))\n",
    "    for i in range(len(energy)):\n",
    "        auc_2d_ut_x[i] = np.trapz(abs(energy_ut[i]), axis=0)\n",
    "        auc_2d_lt_x[i] = np.trapz(abs(energy_lt[i]), axis=0)\n",
    "\n",
    "    area_ut = np.trapz(abs(auc_2d_ut_x), axis=0)\n",
    "    area_lt = np.trapz(abs(auc_2d_lt_x), axis=0)\n",
    "\n",
    "    ## Let's find out the scaling factor\n",
    "    # Now we will perform the integral same as above to get the normalization. Here, we will construct a matrix\n",
    "    # with ones where energy_ut and energy_lt is non-zero\n",
    "    energy_ut_ones = np.where(energy_ut != 0, 1, 0)\n",
    "    energy_lt_ones = np.where(energy_lt != 0, 1, 0)\n",
    "    \n",
    "    auc_2d_ut_x = np.zeros(len(energy))\n",
    "    auc_2d_lt_x = np.zeros(len(energy))\n",
    "    for i in range(len(energy)):\n",
    "        auc_2d_ut_x[i] = np.trapz(abs(energy_ut_ones[i]), axis=0)\n",
    "        auc_2d_lt_x[i] = np.trapz(abs(energy_lt_ones[i]), axis=0)\n",
    "    area_ut_norm = np.trapz(abs(auc_2d_ut_x), axis=0)\n",
    "    area_lt_norm = np.trapz(abs(auc_2d_lt_x), axis=0)\n",
    "    # Let's normalize the area now\n",
    "    area_ut = area_ut/area_ut_norm\n",
    "    area_lt = area_lt/area_lt_norm\n",
    "    return area_ut,area_lt"
   ],
   "outputs": [],
   "execution_count": null
  },
  {
   "cell_type": "markdown",
   "metadata": {},
   "source": [
    "### Main workflow pipeline for Energy Landscape"
   ]
  },
  {
   "cell_type": "code",
   "metadata": {
    "collapsed": false
   },
   "source": [
    "df = pd.read_csv(input_file)\n",
    "box_df = pd.DataFrame(columns=['experiment','chromosome','energy'])\n",
    "filters = np.linspace(0,5,11)\n",
    "df['Chromosome']=df['Chromosome'].astype(str)\n",
    "\n",
    "for chromosome,data in df.groupby('Chromosome'):\n",
    "    if chromosome.isalnum() and chromosome != 'MT' and chromosome != 'Y':\n",
    "        print(\"Processing chromosome = \"+str(chromosome))\n",
    "        appended_area = []\n",
    "        chromosome_output_folder = os.path.join(output_folder,\"chromosome_\"+str(chromosome))\n",
    "        Path(chromosome_output_folder).mkdir(parents=True, exist_ok=True)\n",
    "        for filter_size in filters:\n",
    "            print(\"Analyzing for filter size = \" + str(filter_size))\n",
    "            col_label = []\n",
    "            area_data_ut = [filter_size]\n",
    "            area_data_lt = []\n",
    "            area_data_diff = []\n",
    "            for cross_grp in  cross_group_pairs:\n",
    "                cross_grp_vals = cross_group_pairs[cross_grp]\n",
    "                cross_grp_frm = cross_grp_vals[0]\n",
    "                cross_grp_to = cross_grp_vals[1]\n",
    "                frm_expt_lst = experiment_groups[cross_grp_frm]\n",
    "                to_expt_lst = experiment_groups[cross_grp_to]\n",
    "                print(cross_grp)\n",
    "\n",
    "                data = data[data['Gene_ID'].isin(index_ec_genes)] # Filter to retain only EC genes\n",
    "                transition_mtrx = create_transition_matrix(frm_expt_lst,to_expt_lst)\n",
    "                transition_mtrx = smooth_transition_mtrx(filter_size, transition_mtrx)\n",
    "                shifted_org = abs(transition_mtrx.min(axis=1, keepdims=True))+1\n",
    "                transition_mtrx = transition_mtrx+shifted_org\n",
    "\n",
    "                # Convert matrix to probability\n",
    "                shifted_org_prob = shifted_org/transition_mtrx.sum(axis=1, keepdims=True)\n",
    "                prob_mtrx = transition_mtrx/transition_mtrx.sum(axis=1, keepdims=True)\n",
    "\n",
    "                # Calculate energy and reshift the origin\n",
    "                energy = -np.log(prob_mtrx)\n",
    "                energy_org = -np.log(shifted_org_prob)\n",
    "                energy = energy-energy_org # subtraction as the energies are always positive due to negative log\n",
    "            \n",
    "                if filter_size == 3 and save_img:\n",
    "                    plot_energy_landscape(energy,chromosome_output_folder,cross_grp)\n",
    "                    \n",
    "                area_ut,area_lt = plot_auc_2D(energy)\n",
    "                \n",
    "                area_data_ut.append(area_ut)\n",
    "                area_data_lt.append(area_lt)\n",
    "                area_data_diff.append(area_ut-area_lt)\n",
    "                col_label.append(cross_grp)\n",
    "            # Create dataframe from the list of lists\n",
    "            appended_area.append(area_data_ut+area_data_lt+area_data_diff)\n",
    "\n",
    "        area_data_df = pd.DataFrame(appended_area)\n",
    "        area_data_df.columns = [\"filter_size\"]+[s + '_ut' for s in col_label]+[s + '_lt' for s in col_label]+[s + '_diff' for s in col_label]\n",
    "        area_data_df.to_csv(os.path.join(chromosome_output_folder,\"AUC_energy_df_chromosome_\"+str(chromosome)+\".csv\"),index=False)"
   ],
   "outputs": [],
   "execution_count": null
  }
 ],
 "metadata": {
  "kernelspec": {
   "display_name": "Python 3",
   "language": "python",
   "name": "python3"
  },
  "language_info": {
   "codemirror_mode": {
    "name": "ipython",
    "version": 2
   },
   "file_extension": ".py",
   "mimetype": "text/x-python",
   "name": "python",
   "nbconvert_exporter": "python",
   "pygments_lexer": "ipython2",
   "version": "2.7.6"
  }
 },
 "nbformat": 4,
 "nbformat_minor": 0
}
